{
 "cells": [
  {
   "cell_type": "markdown",
   "id": "4cd426d6",
   "metadata": {},
   "source": [
    "### Importing necessary libraries & dataset"
   ]
  },
  {
   "cell_type": "code",
   "execution_count": 1,
   "id": "e83a68c3",
   "metadata": {},
   "outputs": [],
   "source": [
    "import tensorflow as tf\n",
    "import pandas as pd"
   ]
  },
  {
   "cell_type": "code",
   "execution_count": 2,
   "id": "c1f371a7",
   "metadata": {},
   "outputs": [
    {
     "data": {
      "text/plain": [
       "'2.8.0'"
      ]
     },
     "execution_count": 2,
     "metadata": {},
     "output_type": "execute_result"
    }
   ],
   "source": [
    "tf.__version__"
   ]
  },
  {
   "cell_type": "code",
   "execution_count": 3,
   "id": "44f33201",
   "metadata": {},
   "outputs": [
    {
     "data": {
      "text/html": [
       "<div>\n",
       "<style scoped>\n",
       "    .dataframe tbody tr th:only-of-type {\n",
       "        vertical-align: middle;\n",
       "    }\n",
       "\n",
       "    .dataframe tbody tr th {\n",
       "        vertical-align: top;\n",
       "    }\n",
       "\n",
       "    .dataframe thead th {\n",
       "        text-align: right;\n",
       "    }\n",
       "</style>\n",
       "<table border=\"1\" class=\"dataframe\">\n",
       "  <thead>\n",
       "    <tr style=\"text-align: right;\">\n",
       "      <th></th>\n",
       "      <th>ID</th>\n",
       "      <th>Age</th>\n",
       "      <th>Experience</th>\n",
       "      <th>Income</th>\n",
       "      <th>ZIP Code</th>\n",
       "      <th>Family</th>\n",
       "      <th>CCAvg</th>\n",
       "      <th>Education</th>\n",
       "      <th>Mortgage</th>\n",
       "      <th>Personal Loan</th>\n",
       "      <th>Securities Account</th>\n",
       "      <th>CD Account</th>\n",
       "      <th>Online</th>\n",
       "      <th>CreditCard</th>\n",
       "    </tr>\n",
       "  </thead>\n",
       "  <tbody>\n",
       "    <tr>\n",
       "      <th>0</th>\n",
       "      <td>1</td>\n",
       "      <td>25</td>\n",
       "      <td>1</td>\n",
       "      <td>49</td>\n",
       "      <td>91107</td>\n",
       "      <td>4</td>\n",
       "      <td>1.6</td>\n",
       "      <td>1</td>\n",
       "      <td>0</td>\n",
       "      <td>0</td>\n",
       "      <td>1</td>\n",
       "      <td>0</td>\n",
       "      <td>0</td>\n",
       "      <td>0</td>\n",
       "    </tr>\n",
       "    <tr>\n",
       "      <th>1</th>\n",
       "      <td>2</td>\n",
       "      <td>45</td>\n",
       "      <td>19</td>\n",
       "      <td>34</td>\n",
       "      <td>90089</td>\n",
       "      <td>3</td>\n",
       "      <td>1.5</td>\n",
       "      <td>1</td>\n",
       "      <td>0</td>\n",
       "      <td>0</td>\n",
       "      <td>1</td>\n",
       "      <td>0</td>\n",
       "      <td>0</td>\n",
       "      <td>0</td>\n",
       "    </tr>\n",
       "    <tr>\n",
       "      <th>2</th>\n",
       "      <td>3</td>\n",
       "      <td>39</td>\n",
       "      <td>15</td>\n",
       "      <td>11</td>\n",
       "      <td>94720</td>\n",
       "      <td>1</td>\n",
       "      <td>1.0</td>\n",
       "      <td>1</td>\n",
       "      <td>0</td>\n",
       "      <td>0</td>\n",
       "      <td>0</td>\n",
       "      <td>0</td>\n",
       "      <td>0</td>\n",
       "      <td>0</td>\n",
       "    </tr>\n",
       "    <tr>\n",
       "      <th>3</th>\n",
       "      <td>4</td>\n",
       "      <td>35</td>\n",
       "      <td>9</td>\n",
       "      <td>100</td>\n",
       "      <td>94112</td>\n",
       "      <td>1</td>\n",
       "      <td>2.7</td>\n",
       "      <td>2</td>\n",
       "      <td>0</td>\n",
       "      <td>0</td>\n",
       "      <td>0</td>\n",
       "      <td>0</td>\n",
       "      <td>0</td>\n",
       "      <td>0</td>\n",
       "    </tr>\n",
       "    <tr>\n",
       "      <th>4</th>\n",
       "      <td>5</td>\n",
       "      <td>35</td>\n",
       "      <td>8</td>\n",
       "      <td>45</td>\n",
       "      <td>91330</td>\n",
       "      <td>4</td>\n",
       "      <td>1.0</td>\n",
       "      <td>2</td>\n",
       "      <td>0</td>\n",
       "      <td>0</td>\n",
       "      <td>0</td>\n",
       "      <td>0</td>\n",
       "      <td>0</td>\n",
       "      <td>1</td>\n",
       "    </tr>\n",
       "  </tbody>\n",
       "</table>\n",
       "</div>"
      ],
      "text/plain": [
       "   ID  Age  Experience  Income  ZIP Code  Family  CCAvg  Education  Mortgage  \\\n",
       "0   1   25           1      49     91107       4    1.6          1         0   \n",
       "1   2   45          19      34     90089       3    1.5          1         0   \n",
       "2   3   39          15      11     94720       1    1.0          1         0   \n",
       "3   4   35           9     100     94112       1    2.7          2         0   \n",
       "4   5   35           8      45     91330       4    1.0          2         0   \n",
       "\n",
       "   Personal Loan  Securities Account  CD Account  Online  CreditCard  \n",
       "0              0                   1           0       0           0  \n",
       "1              0                   1           0       0           0  \n",
       "2              0                   0           0       0           0  \n",
       "3              0                   0           0       0           0  \n",
       "4              0                   0           0       0           1  "
      ]
     },
     "execution_count": 3,
     "metadata": {},
     "output_type": "execute_result"
    }
   ],
   "source": [
    "loan = pd.read_csv(r'C:\\Users\\SHREE\\Downloads\\Datasets\\personal loan_updated.csv')\n",
    "loan.head()"
   ]
  },
  {
   "cell_type": "markdown",
   "id": "dd297fca",
   "metadata": {},
   "source": [
    "### Data PreProcessing"
   ]
  },
  {
   "cell_type": "code",
   "execution_count": 4,
   "id": "f75ba96b",
   "metadata": {},
   "outputs": [
    {
     "data": {
      "text/plain": [
       "ID                    0\n",
       "Age                   0\n",
       "Experience            0\n",
       "Income                0\n",
       "ZIP Code              0\n",
       "Family                0\n",
       "CCAvg                 0\n",
       "Education             0\n",
       "Mortgage              0\n",
       "Personal Loan         0\n",
       "Securities Account    0\n",
       "CD Account            0\n",
       "Online                0\n",
       "CreditCard            0\n",
       "dtype: int64"
      ]
     },
     "execution_count": 4,
     "metadata": {},
     "output_type": "execute_result"
    }
   ],
   "source": [
    "loan.isnull().sum()"
   ]
  },
  {
   "cell_type": "code",
   "execution_count": 5,
   "id": "19dd9096",
   "metadata": {},
   "outputs": [
    {
     "name": "stdout",
     "output_type": "stream",
     "text": [
      "<class 'pandas.core.frame.DataFrame'>\n",
      "RangeIndex: 5000 entries, 0 to 4999\n",
      "Data columns (total 14 columns):\n",
      " #   Column              Non-Null Count  Dtype  \n",
      "---  ------              --------------  -----  \n",
      " 0   ID                  5000 non-null   int64  \n",
      " 1   Age                 5000 non-null   int64  \n",
      " 2   Experience          5000 non-null   int64  \n",
      " 3   Income              5000 non-null   int64  \n",
      " 4   ZIP Code            5000 non-null   int64  \n",
      " 5   Family              5000 non-null   int64  \n",
      " 6   CCAvg               5000 non-null   float64\n",
      " 7   Education           5000 non-null   int64  \n",
      " 8   Mortgage            5000 non-null   int64  \n",
      " 9   Personal Loan       5000 non-null   int64  \n",
      " 10  Securities Account  5000 non-null   int64  \n",
      " 11  CD Account          5000 non-null   int64  \n",
      " 12  Online              5000 non-null   int64  \n",
      " 13  CreditCard          5000 non-null   int64  \n",
      "dtypes: float64(1), int64(13)\n",
      "memory usage: 547.0 KB\n"
     ]
    }
   ],
   "source": [
    "loan.info()"
   ]
  },
  {
   "cell_type": "code",
   "execution_count": 8,
   "id": "34e3ed56",
   "metadata": {},
   "outputs": [
    {
     "data": {
      "text/plain": [
       "467"
      ]
     },
     "execution_count": 8,
     "metadata": {},
     "output_type": "execute_result"
    }
   ],
   "source": [
    "# We will remove ID & Zip code for model building as it will be unique\n",
    "loan['ZIP Code'].nunique()"
   ]
  },
  {
   "cell_type": "code",
   "execution_count": 9,
   "id": "21f5afb5",
   "metadata": {},
   "outputs": [],
   "source": [
    "loan_final = loan.drop(columns = ['ID', 'ZIP Code'])"
   ]
  },
  {
   "cell_type": "code",
   "execution_count": 10,
   "id": "326e51f9",
   "metadata": {},
   "outputs": [
    {
     "data": {
      "text/plain": [
       "(5000, 14)"
      ]
     },
     "execution_count": 10,
     "metadata": {},
     "output_type": "execute_result"
    }
   ],
   "source": [
    "loan.shape"
   ]
  },
  {
   "cell_type": "code",
   "execution_count": 11,
   "id": "f26e25ae",
   "metadata": {},
   "outputs": [
    {
     "data": {
      "text/plain": [
       "(5000, 12)"
      ]
     },
     "execution_count": 11,
     "metadata": {},
     "output_type": "execute_result"
    }
   ],
   "source": [
    "loan_final.shape"
   ]
  },
  {
   "cell_type": "markdown",
   "id": "1ba149ad",
   "metadata": {},
   "source": [
    "### Identifying target variables, inputs & splitting them into train, test"
   ]
  },
  {
   "cell_type": "code",
   "execution_count": 12,
   "id": "3fd021bc",
   "metadata": {},
   "outputs": [],
   "source": [
    "y = loan_final[['Personal Loan']]\n",
    "x = loan_final.drop(columns = ['Personal Loan'])"
   ]
  },
  {
   "cell_type": "code",
   "execution_count": 13,
   "id": "dce315f5",
   "metadata": {},
   "outputs": [
    {
     "data": {
      "text/plain": [
       "((4000, 11), (1000, 11), (4000, 1), (1000, 1))"
      ]
     },
     "execution_count": 13,
     "metadata": {},
     "output_type": "execute_result"
    }
   ],
   "source": [
    "from sklearn.model_selection import train_test_split\n",
    "x_train, x_test, y_train, y_test = train_test_split(x, y, test_size = 0.2, random_state = 42)\n",
    "x_train.shape, x_test.shape, y_train.shape, y_test.shape"
   ]
  },
  {
   "cell_type": "markdown",
   "id": "69240aae",
   "metadata": {},
   "source": [
    "### Step 1 - Initialising the model & creating input layer"
   ]
  },
  {
   "cell_type": "code",
   "execution_count": 15,
   "id": "597b5db5",
   "metadata": {},
   "outputs": [],
   "source": [
    "ann = tf.keras.models.Sequential()"
   ]
  },
  {
   "cell_type": "markdown",
   "id": "e6cc4be1",
   "metadata": {},
   "source": [
    "### Step 2 - Creating the first hidden layer"
   ]
  },
  {
   "cell_type": "code",
   "execution_count": 17,
   "id": "da31206c",
   "metadata": {},
   "outputs": [],
   "source": [
    "ann.add(tf.keras.layers.Dense(units = 6, activation = 'relu'))"
   ]
  },
  {
   "cell_type": "markdown",
   "id": "3908fe90",
   "metadata": {},
   "source": [
    "### Step 3 - Creating the second hidden layer"
   ]
  },
  {
   "cell_type": "code",
   "execution_count": 18,
   "id": "5daebdf5",
   "metadata": {},
   "outputs": [],
   "source": [
    "ann.add(tf.keras.layers.Dense(units = 6, activation = 'relu'))"
   ]
  },
  {
   "cell_type": "markdown",
   "id": "0ede668b",
   "metadata": {},
   "source": [
    "### Step 4 - Creating the output layer"
   ]
  },
  {
   "cell_type": "code",
   "execution_count": 19,
   "id": "84b1f365",
   "metadata": {},
   "outputs": [],
   "source": [
    "# As our target variable has 2 classes, we have to fix units = 1 (n-1)\n",
    "ann.add(tf.keras.layers.Dense(units = 1, activation = 'sigmoid'))"
   ]
  },
  {
   "cell_type": "markdown",
   "id": "0f5e3925",
   "metadata": {},
   "source": [
    "### Step 5 - Compiling the model"
   ]
  },
  {
   "cell_type": "code",
   "execution_count": 20,
   "id": "5be47998",
   "metadata": {},
   "outputs": [],
   "source": [
    "ann.compile(optimizer = 'adam', loss = 'binary_crossentropy', metrics = 'accuracy') # if we have multiclass classification then we can use categorical cross entropy"
   ]
  },
  {
   "cell_type": "markdown",
   "id": "d1177ba6",
   "metadata": {},
   "source": [
    "### Step 6 - Fitting the data"
   ]
  },
  {
   "cell_type": "code",
   "execution_count": 21,
   "id": "24317535",
   "metadata": {},
   "outputs": [
    {
     "name": "stdout",
     "output_type": "stream",
     "text": [
      "Epoch 1/100\n",
      "100/100 [==============================] - 5s 8ms/step - loss: 0.7089 - accuracy: 0.9025 - val_loss: 0.3202 - val_accuracy: 0.8838\n",
      "Epoch 2/100\n",
      "100/100 [==============================] - 0s 4ms/step - loss: 0.2741 - accuracy: 0.8916 - val_loss: 0.2967 - val_accuracy: 0.8900\n",
      "Epoch 3/100\n",
      "100/100 [==============================] - 0s 3ms/step - loss: 0.2576 - accuracy: 0.8956 - val_loss: 0.2918 - val_accuracy: 0.8975\n",
      "Epoch 4/100\n",
      "100/100 [==============================] - 0s 3ms/step - loss: 0.2502 - accuracy: 0.8984 - val_loss: 0.2848 - val_accuracy: 0.9000\n",
      "Epoch 5/100\n",
      "100/100 [==============================] - 0s 3ms/step - loss: 0.2462 - accuracy: 0.9003 - val_loss: 0.2786 - val_accuracy: 0.8963\n",
      "Epoch 6/100\n",
      "100/100 [==============================] - 0s 3ms/step - loss: 0.2412 - accuracy: 0.9003 - val_loss: 0.2773 - val_accuracy: 0.9000\n",
      "Epoch 7/100\n",
      "100/100 [==============================] - 0s 3ms/step - loss: 0.2373 - accuracy: 0.9022 - val_loss: 0.2723 - val_accuracy: 0.8988\n",
      "Epoch 8/100\n",
      "100/100 [==============================] - 0s 3ms/step - loss: 0.2352 - accuracy: 0.9034 - val_loss: 0.2681 - val_accuracy: 0.9050\n",
      "Epoch 9/100\n",
      "100/100 [==============================] - 0s 3ms/step - loss: 0.2343 - accuracy: 0.9041 - val_loss: 0.2664 - val_accuracy: 0.8988\n",
      "Epoch 10/100\n",
      "100/100 [==============================] - 0s 3ms/step - loss: 0.2305 - accuracy: 0.9034 - val_loss: 0.2615 - val_accuracy: 0.9038\n",
      "Epoch 11/100\n",
      "100/100 [==============================] - 0s 3ms/step - loss: 0.2256 - accuracy: 0.9059 - val_loss: 0.2561 - val_accuracy: 0.9075\n",
      "Epoch 12/100\n",
      "100/100 [==============================] - 0s 4ms/step - loss: 0.2246 - accuracy: 0.9041 - val_loss: 0.2670 - val_accuracy: 0.9038\n",
      "Epoch 13/100\n",
      "100/100 [==============================] - 0s 3ms/step - loss: 0.2236 - accuracy: 0.9034 - val_loss: 0.2660 - val_accuracy: 0.9038\n",
      "Epoch 14/100\n",
      "100/100 [==============================] - 0s 3ms/step - loss: 0.2222 - accuracy: 0.9091 - val_loss: 0.2523 - val_accuracy: 0.9013\n",
      "Epoch 15/100\n",
      "100/100 [==============================] - 0s 3ms/step - loss: 0.2191 - accuracy: 0.9084 - val_loss: 0.2457 - val_accuracy: 0.9062\n",
      "Epoch 16/100\n",
      "100/100 [==============================] - 0s 4ms/step - loss: 0.2170 - accuracy: 0.9041 - val_loss: 0.2429 - val_accuracy: 0.9075\n",
      "Epoch 17/100\n",
      "100/100 [==============================] - 0s 4ms/step - loss: 0.2163 - accuracy: 0.9081 - val_loss: 0.2569 - val_accuracy: 0.8913\n",
      "Epoch 18/100\n",
      "100/100 [==============================] - 0s 3ms/step - loss: 0.2164 - accuracy: 0.9062 - val_loss: 0.2388 - val_accuracy: 0.9100\n",
      "Epoch 19/100\n",
      "100/100 [==============================] - 0s 3ms/step - loss: 0.2137 - accuracy: 0.9041 - val_loss: 0.2370 - val_accuracy: 0.9100\n",
      "Epoch 20/100\n",
      "100/100 [==============================] - 0s 3ms/step - loss: 0.2119 - accuracy: 0.9041 - val_loss: 0.2331 - val_accuracy: 0.9038\n",
      "Epoch 21/100\n",
      "100/100 [==============================] - 0s 3ms/step - loss: 0.2095 - accuracy: 0.9047 - val_loss: 0.2346 - val_accuracy: 0.9038\n",
      "Epoch 22/100\n",
      "100/100 [==============================] - 0s 3ms/step - loss: 0.2089 - accuracy: 0.9078 - val_loss: 0.2290 - val_accuracy: 0.9062\n",
      "Epoch 23/100\n",
      "100/100 [==============================] - 0s 4ms/step - loss: 0.2071 - accuracy: 0.9047 - val_loss: 0.2240 - val_accuracy: 0.9038\n",
      "Epoch 24/100\n",
      "100/100 [==============================] - 0s 3ms/step - loss: 0.2051 - accuracy: 0.9066 - val_loss: 0.2202 - val_accuracy: 0.9075\n",
      "Epoch 25/100\n",
      "100/100 [==============================] - 0s 3ms/step - loss: 0.2049 - accuracy: 0.9078 - val_loss: 0.2196 - val_accuracy: 0.9075\n",
      "Epoch 26/100\n",
      "100/100 [==============================] - 0s 3ms/step - loss: 0.2024 - accuracy: 0.9059 - val_loss: 0.2166 - val_accuracy: 0.9075\n",
      "Epoch 27/100\n",
      "100/100 [==============================] - 0s 3ms/step - loss: 0.2015 - accuracy: 0.9075 - val_loss: 0.2305 - val_accuracy: 0.9038\n",
      "Epoch 28/100\n",
      "100/100 [==============================] - 0s 3ms/step - loss: 0.2029 - accuracy: 0.9081 - val_loss: 0.2190 - val_accuracy: 0.9038\n",
      "Epoch 29/100\n",
      "100/100 [==============================] - 0s 3ms/step - loss: 0.2024 - accuracy: 0.9053 - val_loss: 0.2097 - val_accuracy: 0.9112\n",
      "Epoch 30/100\n",
      "100/100 [==============================] - 0s 3ms/step - loss: 0.2004 - accuracy: 0.9031 - val_loss: 0.2060 - val_accuracy: 0.9112\n",
      "Epoch 31/100\n",
      "100/100 [==============================] - 0s 3ms/step - loss: 0.2005 - accuracy: 0.9056 - val_loss: 0.2032 - val_accuracy: 0.9100\n",
      "Epoch 32/100\n",
      "100/100 [==============================] - 0s 3ms/step - loss: 0.1986 - accuracy: 0.9084 - val_loss: 0.2036 - val_accuracy: 0.9075\n",
      "Epoch 33/100\n",
      "100/100 [==============================] - 0s 3ms/step - loss: 0.1964 - accuracy: 0.9084 - val_loss: 0.2005 - val_accuracy: 0.9112\n",
      "Epoch 34/100\n",
      "100/100 [==============================] - 0s 3ms/step - loss: 0.1956 - accuracy: 0.9075 - val_loss: 0.2032 - val_accuracy: 0.9050\n",
      "Epoch 35/100\n",
      "100/100 [==============================] - 0s 3ms/step - loss: 0.1971 - accuracy: 0.9094 - val_loss: 0.1967 - val_accuracy: 0.9125\n",
      "Epoch 36/100\n",
      "100/100 [==============================] - 0s 4ms/step - loss: 0.1939 - accuracy: 0.9075 - val_loss: 0.2011 - val_accuracy: 0.9125\n",
      "Epoch 37/100\n",
      "100/100 [==============================] - 0s 4ms/step - loss: 0.1947 - accuracy: 0.9081 - val_loss: 0.1972 - val_accuracy: 0.9075\n",
      "Epoch 38/100\n",
      "100/100 [==============================] - 0s 4ms/step - loss: 0.1925 - accuracy: 0.9103 - val_loss: 0.1929 - val_accuracy: 0.9100\n",
      "Epoch 39/100\n",
      "100/100 [==============================] - 0s 4ms/step - loss: 0.1936 - accuracy: 0.9059 - val_loss: 0.1919 - val_accuracy: 0.9100\n",
      "Epoch 40/100\n",
      "100/100 [==============================] - 1s 8ms/step - loss: 0.1925 - accuracy: 0.9075 - val_loss: 0.1930 - val_accuracy: 0.9112\n",
      "Epoch 41/100\n",
      "100/100 [==============================] - 1s 8ms/step - loss: 0.1924 - accuracy: 0.9075 - val_loss: 0.1931 - val_accuracy: 0.9087\n",
      "Epoch 42/100\n",
      "100/100 [==============================] - 1s 9ms/step - loss: 0.1941 - accuracy: 0.9069 - val_loss: 0.1930 - val_accuracy: 0.9112\n",
      "Epoch 43/100\n",
      "100/100 [==============================] - 1s 8ms/step - loss: 0.1908 - accuracy: 0.9078 - val_loss: 0.1905 - val_accuracy: 0.9125\n",
      "Epoch 44/100\n",
      "100/100 [==============================] - 1s 9ms/step - loss: 0.1925 - accuracy: 0.9094 - val_loss: 0.1898 - val_accuracy: 0.9075\n",
      "Epoch 45/100\n",
      "100/100 [==============================] - 1s 8ms/step - loss: 0.1910 - accuracy: 0.9059 - val_loss: 0.1915 - val_accuracy: 0.9038\n",
      "Epoch 46/100\n",
      "100/100 [==============================] - 1s 9ms/step - loss: 0.1899 - accuracy: 0.9072 - val_loss: 0.1896 - val_accuracy: 0.9087\n",
      "Epoch 47/100\n",
      "100/100 [==============================] - 1s 9ms/step - loss: 0.1895 - accuracy: 0.9072 - val_loss: 0.1983 - val_accuracy: 0.9038\n",
      "Epoch 48/100\n",
      "100/100 [==============================] - 1s 9ms/step - loss: 0.1880 - accuracy: 0.9091 - val_loss: 0.1828 - val_accuracy: 0.9150\n",
      "Epoch 49/100\n",
      "100/100 [==============================] - 1s 10ms/step - loss: 0.1898 - accuracy: 0.9109 - val_loss: 0.1826 - val_accuracy: 0.9137\n",
      "Epoch 50/100\n",
      "100/100 [==============================] - 1s 9ms/step - loss: 0.1873 - accuracy: 0.9122 - val_loss: 0.1893 - val_accuracy: 0.9038\n",
      "Epoch 51/100\n",
      "100/100 [==============================] - 1s 9ms/step - loss: 0.1859 - accuracy: 0.9103 - val_loss: 0.1809 - val_accuracy: 0.9125\n",
      "Epoch 52/100\n",
      "100/100 [==============================] - 1s 9ms/step - loss: 0.1856 - accuracy: 0.9094 - val_loss: 0.1887 - val_accuracy: 0.9125\n",
      "Epoch 53/100\n",
      "100/100 [==============================] - 1s 9ms/step - loss: 0.1861 - accuracy: 0.9109 - val_loss: 0.1782 - val_accuracy: 0.9137\n",
      "Epoch 54/100\n",
      "100/100 [==============================] - 1s 9ms/step - loss: 0.1859 - accuracy: 0.9109 - val_loss: 0.1779 - val_accuracy: 0.9150\n",
      "Epoch 55/100\n",
      "100/100 [==============================] - 1s 9ms/step - loss: 0.1826 - accuracy: 0.9131 - val_loss: 0.1791 - val_accuracy: 0.9175\n",
      "Epoch 56/100\n",
      "100/100 [==============================] - 1s 10ms/step - loss: 0.1830 - accuracy: 0.9100 - val_loss: 0.1746 - val_accuracy: 0.9137\n",
      "Epoch 57/100\n",
      "100/100 [==============================] - 1s 9ms/step - loss: 0.1826 - accuracy: 0.9106 - val_loss: 0.1769 - val_accuracy: 0.9150\n",
      "Epoch 58/100\n",
      "100/100 [==============================] - 1s 7ms/step - loss: 0.1799 - accuracy: 0.9137 - val_loss: 0.1737 - val_accuracy: 0.9175\n",
      "Epoch 59/100\n",
      "100/100 [==============================] - 1s 7ms/step - loss: 0.1800 - accuracy: 0.9131 - val_loss: 0.1811 - val_accuracy: 0.9125\n",
      "Epoch 60/100\n",
      "100/100 [==============================] - 1s 8ms/step - loss: 0.1812 - accuracy: 0.9109 - val_loss: 0.1728 - val_accuracy: 0.9187\n",
      "Epoch 61/100\n",
      "100/100 [==============================] - 1s 14ms/step - loss: 0.1787 - accuracy: 0.9122 - val_loss: 0.1745 - val_accuracy: 0.9162\n",
      "Epoch 62/100\n",
      "100/100 [==============================] - 1s 9ms/step - loss: 0.1775 - accuracy: 0.9144 - val_loss: 0.1706 - val_accuracy: 0.9212\n",
      "Epoch 63/100\n",
      "100/100 [==============================] - 1s 8ms/step - loss: 0.1757 - accuracy: 0.9119 - val_loss: 0.1712 - val_accuracy: 0.9212\n",
      "Epoch 64/100\n",
      "100/100 [==============================] - 1s 8ms/step - loss: 0.1759 - accuracy: 0.9137 - val_loss: 0.1694 - val_accuracy: 0.9225\n",
      "Epoch 65/100\n",
      "100/100 [==============================] - 1s 15ms/step - loss: 0.1744 - accuracy: 0.9150 - val_loss: 0.1691 - val_accuracy: 0.9187\n",
      "Epoch 66/100\n",
      "100/100 [==============================] - 1s 12ms/step - loss: 0.1732 - accuracy: 0.9169 - val_loss: 0.1690 - val_accuracy: 0.9237\n",
      "Epoch 67/100\n",
      "100/100 [==============================] - 1s 9ms/step - loss: 0.1704 - accuracy: 0.9169 - val_loss: 0.1616 - val_accuracy: 0.9225\n",
      "Epoch 68/100\n",
      "100/100 [==============================] - 1s 11ms/step - loss: 0.1735 - accuracy: 0.9178 - val_loss: 0.1628 - val_accuracy: 0.9200\n",
      "Epoch 69/100\n",
      "100/100 [==============================] - 1s 10ms/step - loss: 0.1697 - accuracy: 0.9159 - val_loss: 0.1601 - val_accuracy: 0.9225\n",
      "Epoch 70/100\n",
      "100/100 [==============================] - 1s 9ms/step - loss: 0.1686 - accuracy: 0.9216 - val_loss: 0.1587 - val_accuracy: 0.9225\n",
      "Epoch 71/100\n",
      "100/100 [==============================] - 1s 9ms/step - loss: 0.1698 - accuracy: 0.9175 - val_loss: 0.1659 - val_accuracy: 0.9212\n",
      "Epoch 72/100\n",
      "100/100 [==============================] - 1s 11ms/step - loss: 0.1669 - accuracy: 0.9197 - val_loss: 0.1620 - val_accuracy: 0.9250\n",
      "Epoch 73/100\n",
      "100/100 [==============================] - 1s 10ms/step - loss: 0.1677 - accuracy: 0.9234 - val_loss: 0.1618 - val_accuracy: 0.9237\n",
      "Epoch 74/100\n",
      "100/100 [==============================] - 1s 12ms/step - loss: 0.1651 - accuracy: 0.9241 - val_loss: 0.1587 - val_accuracy: 0.9225\n",
      "Epoch 75/100\n",
      "100/100 [==============================] - 1s 10ms/step - loss: 0.1654 - accuracy: 0.9250 - val_loss: 0.1570 - val_accuracy: 0.9237\n",
      "Epoch 76/100\n",
      "100/100 [==============================] - 1s 10ms/step - loss: 0.1632 - accuracy: 0.9266 - val_loss: 0.1670 - val_accuracy: 0.9275\n",
      "Epoch 77/100\n",
      "100/100 [==============================] - 1s 9ms/step - loss: 0.1646 - accuracy: 0.9253 - val_loss: 0.1558 - val_accuracy: 0.9262\n",
      "Epoch 78/100\n",
      "100/100 [==============================] - 1s 11ms/step - loss: 0.1610 - accuracy: 0.9297 - val_loss: 0.1542 - val_accuracy: 0.9312\n",
      "Epoch 79/100\n",
      "100/100 [==============================] - 1s 10ms/step - loss: 0.1602 - accuracy: 0.9284 - val_loss: 0.1538 - val_accuracy: 0.9250\n",
      "Epoch 80/100\n",
      "100/100 [==============================] - 1s 10ms/step - loss: 0.1601 - accuracy: 0.9309 - val_loss: 0.1568 - val_accuracy: 0.9237\n",
      "Epoch 81/100\n",
      "100/100 [==============================] - 1s 10ms/step - loss: 0.1582 - accuracy: 0.9287 - val_loss: 0.1608 - val_accuracy: 0.9275\n",
      "Epoch 82/100\n",
      "100/100 [==============================] - 1s 9ms/step - loss: 0.1578 - accuracy: 0.9312 - val_loss: 0.1567 - val_accuracy: 0.9275\n",
      "Epoch 83/100\n",
      "100/100 [==============================] - 1s 9ms/step - loss: 0.1592 - accuracy: 0.9328 - val_loss: 0.1532 - val_accuracy: 0.9287\n",
      "Epoch 84/100\n",
      "100/100 [==============================] - 1s 9ms/step - loss: 0.1557 - accuracy: 0.9344 - val_loss: 0.1570 - val_accuracy: 0.9350\n",
      "Epoch 85/100\n",
      "100/100 [==============================] - 1s 12ms/step - loss: 0.1555 - accuracy: 0.9337 - val_loss: 0.1579 - val_accuracy: 0.9262\n",
      "Epoch 86/100\n",
      "100/100 [==============================] - 1s 11ms/step - loss: 0.1599 - accuracy: 0.9331 - val_loss: 0.1518 - val_accuracy: 0.9325\n",
      "Epoch 87/100\n",
      "100/100 [==============================] - 1s 9ms/step - loss: 0.1522 - accuracy: 0.9359 - val_loss: 0.1524 - val_accuracy: 0.9350\n",
      "Epoch 88/100\n",
      "100/100 [==============================] - 1s 10ms/step - loss: 0.1536 - accuracy: 0.9344 - val_loss: 0.1608 - val_accuracy: 0.9325\n",
      "Epoch 89/100\n",
      "100/100 [==============================] - 1s 10ms/step - loss: 0.1525 - accuracy: 0.9375 - val_loss: 0.1491 - val_accuracy: 0.9400\n",
      "Epoch 90/100\n",
      "100/100 [==============================] - 1s 10ms/step - loss: 0.1505 - accuracy: 0.9375 - val_loss: 0.1560 - val_accuracy: 0.9337\n",
      "Epoch 91/100\n",
      "100/100 [==============================] - 1s 11ms/step - loss: 0.1545 - accuracy: 0.9378 - val_loss: 0.1595 - val_accuracy: 0.9350\n",
      "Epoch 92/100\n",
      "100/100 [==============================] - 1s 7ms/step - loss: 0.1502 - accuracy: 0.9397 - val_loss: 0.1573 - val_accuracy: 0.9362\n",
      "Epoch 93/100\n",
      "100/100 [==============================] - 1s 9ms/step - loss: 0.1503 - accuracy: 0.9381 - val_loss: 0.1626 - val_accuracy: 0.9375\n",
      "Epoch 94/100\n",
      "100/100 [==============================] - 1s 11ms/step - loss: 0.1499 - accuracy: 0.9384 - val_loss: 0.1575 - val_accuracy: 0.9362\n",
      "Epoch 95/100\n",
      "100/100 [==============================] - 1s 11ms/step - loss: 0.1503 - accuracy: 0.9394 - val_loss: 0.1614 - val_accuracy: 0.9337\n",
      "Epoch 96/100\n",
      "100/100 [==============================] - 1s 10ms/step - loss: 0.1489 - accuracy: 0.9394 - val_loss: 0.1515 - val_accuracy: 0.9450\n",
      "Epoch 97/100\n",
      "100/100 [==============================] - 1s 10ms/step - loss: 0.1472 - accuracy: 0.9422 - val_loss: 0.1506 - val_accuracy: 0.9475\n",
      "Epoch 98/100\n",
      "100/100 [==============================] - 1s 10ms/step - loss: 0.1466 - accuracy: 0.9406 - val_loss: 0.1569 - val_accuracy: 0.9400\n",
      "Epoch 99/100\n",
      "100/100 [==============================] - 1s 11ms/step - loss: 0.1474 - accuracy: 0.9425 - val_loss: 0.1535 - val_accuracy: 0.9438\n",
      "Epoch 100/100\n",
      "100/100 [==============================] - 1s 10ms/step - loss: 0.1465 - accuracy: 0.9416 - val_loss: 0.1512 - val_accuracy: 0.9463\n"
     ]
    }
   ],
   "source": [
    "model = ann.fit(x_train, y_train, validation_split = 0.2, batch_size = 32, epochs = 100)"
   ]
  },
  {
   "cell_type": "markdown",
   "id": "6f93ad71",
   "metadata": {},
   "source": [
    "### Step 7 - Prediction on test data"
   ]
  },
  {
   "cell_type": "code",
   "execution_count": 23,
   "id": "f1d1f607",
   "metadata": {},
   "outputs": [],
   "source": [
    "y_test['Prediction'] = ann.predict(x_test)"
   ]
  },
  {
   "cell_type": "code",
   "execution_count": 24,
   "id": "4e34278a",
   "metadata": {},
   "outputs": [
    {
     "data": {
      "text/html": [
       "<div>\n",
       "<style scoped>\n",
       "    .dataframe tbody tr th:only-of-type {\n",
       "        vertical-align: middle;\n",
       "    }\n",
       "\n",
       "    .dataframe tbody tr th {\n",
       "        vertical-align: top;\n",
       "    }\n",
       "\n",
       "    .dataframe thead th {\n",
       "        text-align: right;\n",
       "    }\n",
       "</style>\n",
       "<table border=\"1\" class=\"dataframe\">\n",
       "  <thead>\n",
       "    <tr style=\"text-align: right;\">\n",
       "      <th></th>\n",
       "      <th>Personal Loan</th>\n",
       "      <th>Prediction</th>\n",
       "    </tr>\n",
       "  </thead>\n",
       "  <tbody>\n",
       "    <tr>\n",
       "      <th>1501</th>\n",
       "      <td>0</td>\n",
       "      <td>False</td>\n",
       "    </tr>\n",
       "    <tr>\n",
       "      <th>2586</th>\n",
       "      <td>1</td>\n",
       "      <td>False</td>\n",
       "    </tr>\n",
       "    <tr>\n",
       "      <th>2653</th>\n",
       "      <td>0</td>\n",
       "      <td>False</td>\n",
       "    </tr>\n",
       "    <tr>\n",
       "      <th>1055</th>\n",
       "      <td>0</td>\n",
       "      <td>False</td>\n",
       "    </tr>\n",
       "    <tr>\n",
       "      <th>705</th>\n",
       "      <td>0</td>\n",
       "      <td>False</td>\n",
       "    </tr>\n",
       "  </tbody>\n",
       "</table>\n",
       "</div>"
      ],
      "text/plain": [
       "      Personal Loan  Prediction\n",
       "1501              0       False\n",
       "2586              1       False\n",
       "2653              0       False\n",
       "1055              0       False\n",
       "705               0       False"
      ]
     },
     "execution_count": 24,
     "metadata": {},
     "output_type": "execute_result"
    }
   ],
   "source": [
    "y_test['Prediction'] = y_test['Prediction'] > 0.5\n",
    "y_test.head()"
   ]
  },
  {
   "cell_type": "code",
   "execution_count": 25,
   "id": "db830fee",
   "metadata": {},
   "outputs": [
    {
     "data": {
      "text/html": [
       "<div>\n",
       "<style scoped>\n",
       "    .dataframe tbody tr th:only-of-type {\n",
       "        vertical-align: middle;\n",
       "    }\n",
       "\n",
       "    .dataframe tbody tr th {\n",
       "        vertical-align: top;\n",
       "    }\n",
       "\n",
       "    .dataframe thead th {\n",
       "        text-align: right;\n",
       "    }\n",
       "</style>\n",
       "<table border=\"1\" class=\"dataframe\">\n",
       "  <thead>\n",
       "    <tr style=\"text-align: right;\">\n",
       "      <th></th>\n",
       "      <th>Personal Loan</th>\n",
       "      <th>Prediction</th>\n",
       "    </tr>\n",
       "  </thead>\n",
       "  <tbody>\n",
       "    <tr>\n",
       "      <th>1501</th>\n",
       "      <td>0</td>\n",
       "      <td>0</td>\n",
       "    </tr>\n",
       "    <tr>\n",
       "      <th>2586</th>\n",
       "      <td>1</td>\n",
       "      <td>0</td>\n",
       "    </tr>\n",
       "    <tr>\n",
       "      <th>2653</th>\n",
       "      <td>0</td>\n",
       "      <td>0</td>\n",
       "    </tr>\n",
       "    <tr>\n",
       "      <th>1055</th>\n",
       "      <td>0</td>\n",
       "      <td>0</td>\n",
       "    </tr>\n",
       "    <tr>\n",
       "      <th>705</th>\n",
       "      <td>0</td>\n",
       "      <td>0</td>\n",
       "    </tr>\n",
       "  </tbody>\n",
       "</table>\n",
       "</div>"
      ],
      "text/plain": [
       "      Personal Loan  Prediction\n",
       "1501              0           0\n",
       "2586              1           0\n",
       "2653              0           0\n",
       "1055              0           0\n",
       "705               0           0"
      ]
     },
     "execution_count": 25,
     "metadata": {},
     "output_type": "execute_result"
    }
   ],
   "source": [
    "y_test['Prediction'] = y_test['Prediction'].astype('int')\n",
    "y_test.head()"
   ]
  },
  {
   "cell_type": "markdown",
   "id": "06e86260",
   "metadata": {},
   "source": [
    "### Checking Accuracy of model"
   ]
  },
  {
   "cell_type": "code",
   "execution_count": 26,
   "id": "258845e5",
   "metadata": {},
   "outputs": [
    {
     "name": "stdout",
     "output_type": "stream",
     "text": [
      "0.949\n",
      "[[884  11]\n",
      " [ 40  65]]\n"
     ]
    }
   ],
   "source": [
    "from sklearn.metrics import accuracy_score, confusion_matrix\n",
    "\n",
    "print(accuracy_score(y_test['Personal Loan'], y_test['Prediction']))\n",
    "print(confusion_matrix(y_test['Personal Loan'], y_test['Prediction']))"
   ]
  }
 ],
 "metadata": {
  "kernelspec": {
   "display_name": "Python 3 (ipykernel)",
   "language": "python",
   "name": "python3"
  },
  "language_info": {
   "codemirror_mode": {
    "name": "ipython",
    "version": 3
   },
   "file_extension": ".py",
   "mimetype": "text/x-python",
   "name": "python",
   "nbconvert_exporter": "python",
   "pygments_lexer": "ipython3",
   "version": "3.8.8"
  }
 },
 "nbformat": 4,
 "nbformat_minor": 5
}
