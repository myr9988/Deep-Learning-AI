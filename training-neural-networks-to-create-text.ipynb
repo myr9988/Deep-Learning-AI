{
 "cells": [
  {
   "cell_type": "code",
   "execution_count": 1,
   "id": "d6fe481d",
   "metadata": {
    "_cell_guid": "b1076dfc-b9ad-4769-8c92-a6c4dae69d19",
    "_uuid": "8f2839f25d086af736a60e9eeb907d3b93b6e0e5",
    "execution": {
     "iopub.execute_input": "2022-07-10T16:32:41.298043Z",
     "iopub.status.busy": "2022-07-10T16:32:41.297358Z",
     "iopub.status.idle": "2022-07-10T16:32:41.315485Z",
     "shell.execute_reply": "2022-07-10T16:32:41.314447Z"
    },
    "papermill": {
     "duration": 0.026438,
     "end_time": "2022-07-10T16:32:41.317735",
     "exception": false,
     "start_time": "2022-07-10T16:32:41.291297",
     "status": "completed"
    },
    "tags": []
   },
   "outputs": [
    {
     "name": "stdout",
     "output_type": "stream",
     "text": [
      "/kaggle/input/amazon-reviews/Reviews.csv\n"
     ]
    }
   ],
   "source": [
    "# This Python 3 environment comes with many helpful analytics libraries installed\n",
    "# It is defined by the kaggle/python Docker image: https://github.com/kaggle/docker-python\n",
    "# For example, here's several helpful packages to load\n",
    "\n",
    "import numpy as np # linear algebra\n",
    "import pandas as pd # data processing, CSV file I/O (e.g. pd.read_csv)\n",
    "\n",
    "# Input data files are available in the read-only \"../input/\" directory\n",
    "# For example, running this (by clicking run or pressing Shift+Enter) will list all files under the input directory\n",
    "\n",
    "import os\n",
    "for dirname, _, filenames in os.walk('/kaggle/input'):\n",
    "    for filename in filenames:\n",
    "        print(os.path.join(dirname, filename))\n",
    "\n",
    "# You can write up to 20GB to the current directory (/kaggle/working/) that gets preserved as output when you create a version using \"Save & Run All\" \n",
    "# You can also write temporary files to /kaggle/temp/, but they won't be saved outside of the current session"
   ]
  },
  {
   "cell_type": "markdown",
   "id": "d84ab8c7",
   "metadata": {
    "papermill": {
     "duration": 0.002846,
     "end_time": "2022-07-10T16:32:41.323819",
     "exception": false,
     "start_time": "2022-07-10T16:32:41.320973",
     "status": "completed"
    },
    "tags": []
   },
   "source": [
    "**Importing Libraries & Dataset**"
   ]
  },
  {
   "cell_type": "code",
   "execution_count": 2,
   "id": "bbd40731",
   "metadata": {
    "execution": {
     "iopub.execute_input": "2022-07-10T16:32:41.331308Z",
     "iopub.status.busy": "2022-07-10T16:32:41.330566Z",
     "iopub.status.idle": "2022-07-10T16:33:17.855058Z",
     "shell.execute_reply": "2022-07-10T16:33:17.854060Z"
    },
    "papermill": {
     "duration": 36.530566,
     "end_time": "2022-07-10T16:33:17.857411",
     "exception": false,
     "start_time": "2022-07-10T16:32:41.326845",
     "status": "completed"
    },
    "tags": []
   },
   "outputs": [],
   "source": [
    "import pandas as pd\n",
    "import re\n",
    "\n",
    "data = pd.read_csv('../input/amazon-reviews/Reviews.csv')\n",
    "\n",
    "def preprocess(text):\n",
    "    text_input = re.sub('[^a-zA-Z1-9]+', ' ', str(text))\n",
    "    output = re.sub(r'\\d+', '',text_input)\n",
    "    return output.lower().strip()\n",
    "\n",
    "data['Text'] = data.Text.map(preprocess)\n",
    "corpus_cleaned = data['Text'].astype(str).values.tolist()"
   ]
  },
  {
   "cell_type": "markdown",
   "id": "1f269004",
   "metadata": {
    "papermill": {
     "duration": 0.002957,
     "end_time": "2022-07-10T16:33:17.864160",
     "exception": false,
     "start_time": "2022-07-10T16:33:17.861203",
     "status": "completed"
    },
    "tags": []
   },
   "source": [
    "### For smiplicity, we keep only reviews with 12 words"
   ]
  },
  {
   "cell_type": "code",
   "execution_count": 3,
   "id": "e3213a77",
   "metadata": {
    "execution": {
     "iopub.execute_input": "2022-07-10T16:33:17.872023Z",
     "iopub.status.busy": "2022-07-10T16:33:17.871169Z",
     "iopub.status.idle": "2022-07-10T16:33:21.047371Z",
     "shell.execute_reply": "2022-07-10T16:33:21.046390Z"
    },
    "papermill": {
     "duration": 3.182504,
     "end_time": "2022-07-10T16:33:21.049672",
     "exception": false,
     "start_time": "2022-07-10T16:33:17.867168",
     "status": "completed"
    },
    "tags": []
   },
   "outputs": [],
   "source": [
    "sentences = []\n",
    "sentence_length = []\n",
    "\n",
    "for item in corpus_cleaned:\n",
    "    word_list = item.split()\n",
    "    sentences.append(item)\n",
    "    number_of_words = len(word_list)\n",
    "    sentence_length.append(number_of_words)\n",
    "\n",
    "sentences = pd.DataFrame(sentences)\n",
    "sentence_length = pd.DataFrame(sentence_length)\n",
    "\n",
    "sentences = sentences.merge(sentence_length, left_index=True, right_index=True)\n",
    "\n",
    "sentences['number_of_words']=sentences['0_y']\n",
    "sentences['sentence']=sentences['0_x']\n",
    "sentences=sentences[['sentence','number_of_words']]\n",
    "sentences['number_of_words']=sentences['number_of_words'].astype(int)\n",
    "\n",
    "sentences = sentences[sentences['number_of_words'] == 12]\n",
    "corpus_cleaned=sentences['sentence'].values.tolist()\n",
    "corpus = corpus_cleaned"
   ]
  },
  {
   "cell_type": "code",
   "execution_count": 4,
   "id": "0fe76a18",
   "metadata": {
    "execution": {
     "iopub.execute_input": "2022-07-10T16:33:21.057683Z",
     "iopub.status.busy": "2022-07-10T16:33:21.057399Z",
     "iopub.status.idle": "2022-07-10T16:33:26.165072Z",
     "shell.execute_reply": "2022-07-10T16:33:26.164084Z"
    },
    "papermill": {
     "duration": 5.114488,
     "end_time": "2022-07-10T16:33:26.167649",
     "exception": false,
     "start_time": "2022-07-10T16:33:21.053161",
     "status": "completed"
    },
    "tags": []
   },
   "outputs": [],
   "source": [
    "from tensorflow.keras.preprocessing.text import Tokenizer\n",
    "\n",
    "tokenizer = Tokenizer()\n",
    "tokenizer.fit_on_texts(corpus)\n",
    "\n",
    "# create input sequences using list of tokens\n",
    "input_sequences = []\n",
    "\n",
    "for review in corpus:\n",
    "    token_list = tokenizer.texts_to_sequences([review])[0]\n",
    "    for i in range(1, len(token_list)):\n",
    "        n_gram_sequence = token_list[:i+1]\n",
    "        input_sequences.append(n_gram_sequence)"
   ]
  },
  {
   "cell_type": "code",
   "execution_count": 5,
   "id": "0ac8e7b6",
   "metadata": {
    "execution": {
     "iopub.execute_input": "2022-07-10T16:33:26.176157Z",
     "iopub.status.busy": "2022-07-10T16:33:26.175459Z",
     "iopub.status.idle": "2022-07-10T16:33:26.191468Z",
     "shell.execute_reply": "2022-07-10T16:33:26.190631Z"
    },
    "papermill": {
     "duration": 0.022347,
     "end_time": "2022-07-10T16:33:26.193517",
     "exception": false,
     "start_time": "2022-07-10T16:33:26.171170",
     "status": "completed"
    },
    "tags": []
   },
   "outputs": [],
   "source": [
    "import tensorflow.keras.utils as ku\n",
    "from tensorflow.keras.preprocessing.sequence import pad_sequences\n",
    "import numpy as np\n",
    "\n",
    "# pad sequences\n",
    "max_sequence_len = max([len(x) for x in input_sequences])\n",
    "input_sequences = np.array(pad_sequences(input_sequences, maxlen=max_sequence_len, padding='pre'))\n",
    "\n",
    "# create predictors and label\n",
    "total_words = len(tokenizer.word_index) + 1\n",
    "predictors, label = input_sequences[:,:-1],input_sequences[:,-1]\n",
    "label = ku.to_categorical(label, num_classes=total_words)"
   ]
  },
  {
   "cell_type": "code",
   "execution_count": 6,
   "id": "6d97c1a0",
   "metadata": {
    "execution": {
     "iopub.execute_input": "2022-07-10T16:33:26.201231Z",
     "iopub.status.busy": "2022-07-10T16:33:26.200548Z",
     "iopub.status.idle": "2022-07-10T16:33:26.206719Z",
     "shell.execute_reply": "2022-07-10T16:33:26.205883Z"
    },
    "papermill": {
     "duration": 0.012014,
     "end_time": "2022-07-10T16:33:26.208636",
     "exception": false,
     "start_time": "2022-07-10T16:33:26.196622",
     "status": "completed"
    },
    "tags": []
   },
   "outputs": [],
   "source": [
    "from tensorflow.keras.layers import Embedding, LSTM, Dense, Dropout, Bidirectional\n",
    "from tensorflow.keras.models import Sequential\n",
    "from tensorflow.keras import regularizers\n",
    "import tensorflow as tf"
   ]
  },
  {
   "cell_type": "code",
   "execution_count": 7,
   "id": "91fb176e",
   "metadata": {
    "execution": {
     "iopub.execute_input": "2022-07-10T16:33:26.216091Z",
     "iopub.status.busy": "2022-07-10T16:33:26.215844Z",
     "iopub.status.idle": "2022-07-10T16:33:29.767465Z",
     "shell.execute_reply": "2022-07-10T16:33:29.766536Z"
    },
    "papermill": {
     "duration": 3.558448,
     "end_time": "2022-07-10T16:33:29.770119",
     "exception": false,
     "start_time": "2022-07-10T16:33:26.211671",
     "status": "completed"
    },
    "tags": []
   },
   "outputs": [
    {
     "name": "stderr",
     "output_type": "stream",
     "text": [
      "2022-07-10 16:33:26.301763: I tensorflow/stream_executor/cuda/cuda_gpu_executor.cc:937] successful NUMA node read from SysFS had negative value (-1), but there must be at least one NUMA node, so returning NUMA node zero\n",
      "2022-07-10 16:33:26.408645: I tensorflow/stream_executor/cuda/cuda_gpu_executor.cc:937] successful NUMA node read from SysFS had negative value (-1), but there must be at least one NUMA node, so returning NUMA node zero\n",
      "2022-07-10 16:33:26.409390: I tensorflow/stream_executor/cuda/cuda_gpu_executor.cc:937] successful NUMA node read from SysFS had negative value (-1), but there must be at least one NUMA node, so returning NUMA node zero\n",
      "2022-07-10 16:33:26.410493: I tensorflow/core/platform/cpu_feature_guard.cc:142] This TensorFlow binary is optimized with oneAPI Deep Neural Network Library (oneDNN) to use the following CPU instructions in performance-critical operations:  AVX2 AVX512F FMA\n",
      "To enable them in other operations, rebuild TensorFlow with the appropriate compiler flags.\n",
      "2022-07-10 16:33:26.410813: I tensorflow/stream_executor/cuda/cuda_gpu_executor.cc:937] successful NUMA node read from SysFS had negative value (-1), but there must be at least one NUMA node, so returning NUMA node zero\n",
      "2022-07-10 16:33:26.411479: I tensorflow/stream_executor/cuda/cuda_gpu_executor.cc:937] successful NUMA node read from SysFS had negative value (-1), but there must be at least one NUMA node, so returning NUMA node zero\n",
      "2022-07-10 16:33:26.412145: I tensorflow/stream_executor/cuda/cuda_gpu_executor.cc:937] successful NUMA node read from SysFS had negative value (-1), but there must be at least one NUMA node, so returning NUMA node zero\n",
      "2022-07-10 16:33:28.628877: I tensorflow/stream_executor/cuda/cuda_gpu_executor.cc:937] successful NUMA node read from SysFS had negative value (-1), but there must be at least one NUMA node, so returning NUMA node zero\n",
      "2022-07-10 16:33:28.629793: I tensorflow/stream_executor/cuda/cuda_gpu_executor.cc:937] successful NUMA node read from SysFS had negative value (-1), but there must be at least one NUMA node, so returning NUMA node zero\n",
      "2022-07-10 16:33:28.630434: I tensorflow/stream_executor/cuda/cuda_gpu_executor.cc:937] successful NUMA node read from SysFS had negative value (-1), but there must be at least one NUMA node, so returning NUMA node zero\n",
      "2022-07-10 16:33:28.631023: I tensorflow/core/common_runtime/gpu/gpu_device.cc:1510] Created device /job:localhost/replica:0/task:0/device:GPU:0 with 15403 MB memory:  -> device: 0, name: Tesla P100-PCIE-16GB, pci bus id: 0000:00:04.0, compute capability: 6.0\n"
     ]
    }
   ],
   "source": [
    "model = Sequential()\n",
    "model.add(Embedding(total_words, 240, input_length=max_sequence_len-1))\n",
    "model.add(Bidirectional(LSTM(150, return_sequences = True)))\n",
    "model.add(Dropout(0.2))\n",
    "model.add(LSTM(100))\n",
    "model.add(Dense(total_words/2, activation='relu', kernel_regularizer=regularizers.l2(0.01)))\n",
    "model.add(Dense(total_words, activation='softmax'))\n",
    "model.compile(loss='categorical_crossentropy', optimizer='adam', metrics=['accuracy'])"
   ]
  },
  {
   "cell_type": "code",
   "execution_count": 8,
   "id": "2d1e1ea3",
   "metadata": {
    "execution": {
     "iopub.execute_input": "2022-07-10T16:33:29.779658Z",
     "iopub.status.busy": "2022-07-10T16:33:29.778213Z",
     "iopub.status.idle": "2022-07-10T16:34:05.773789Z",
     "shell.execute_reply": "2022-07-10T16:34:05.772700Z"
    },
    "papermill": {
     "duration": 36.002226,
     "end_time": "2022-07-10T16:34:05.776098",
     "exception": false,
     "start_time": "2022-07-10T16:33:29.773872",
     "status": "completed"
    },
    "tags": []
   },
   "outputs": [
    {
     "name": "stderr",
     "output_type": "stream",
     "text": [
      "2022-07-10 16:33:29.829511: I tensorflow/compiler/mlir/mlir_graph_optimization_pass.cc:185] None of the MLIR Optimization Passes are enabled (registered 2)\n"
     ]
    },
    {
     "name": "stdout",
     "output_type": "stream",
     "text": [
      "Epoch 1/300\n"
     ]
    },
    {
     "name": "stderr",
     "output_type": "stream",
     "text": [
      "2022-07-10 16:33:33.919250: I tensorflow/stream_executor/cuda/cuda_dnn.cc:369] Loaded cuDNN version 8005\n"
     ]
    },
    {
     "name": "stdout",
     "output_type": "stream",
     "text": [
      "47/47 [==============================] - 6s 8ms/step - loss: 6.8857 - accuracy: 0.0237\n",
      "Epoch 2/300\n",
      "47/47 [==============================] - 0s 7ms/step - loss: 6.0140 - accuracy: 0.0278\n",
      "Epoch 3/300\n",
      "47/47 [==============================] - 0s 7ms/step - loss: 5.7361 - accuracy: 0.0292\n",
      "Epoch 4/300\n",
      "47/47 [==============================] - 0s 7ms/step - loss: 5.5502 - accuracy: 0.0285\n",
      "Epoch 5/300\n",
      "47/47 [==============================] - 0s 7ms/step - loss: 5.3988 - accuracy: 0.0326\n",
      "Epoch 6/300\n",
      "47/47 [==============================] - 0s 9ms/step - loss: 5.2733 - accuracy: 0.0387\n",
      "Epoch 7/300\n",
      "47/47 [==============================] - 0s 10ms/step - loss: 5.1598 - accuracy: 0.0292\n",
      "Epoch 8/300\n",
      "47/47 [==============================] - 0s 10ms/step - loss: 5.0415 - accuracy: 0.0407\n",
      "Epoch 9/300\n",
      "47/47 [==============================] - 1s 11ms/step - loss: 4.9382 - accuracy: 0.0461\n",
      "Epoch 10/300\n",
      "47/47 [==============================] - 0s 8ms/step - loss: 4.8355 - accuracy: 0.0570\n",
      "Epoch 11/300\n",
      "47/47 [==============================] - 0s 7ms/step - loss: 4.7328 - accuracy: 0.0658\n",
      "Epoch 12/300\n",
      "47/47 [==============================] - 0s 7ms/step - loss: 4.6355 - accuracy: 0.0760\n",
      "Epoch 13/300\n",
      "47/47 [==============================] - 0s 7ms/step - loss: 4.5843 - accuracy: 0.0801\n",
      "Epoch 14/300\n",
      "47/47 [==============================] - 0s 7ms/step - loss: 4.4837 - accuracy: 0.0814\n",
      "Epoch 15/300\n",
      "47/47 [==============================] - 0s 7ms/step - loss: 4.3520 - accuracy: 0.0943\n",
      "Epoch 16/300\n",
      "47/47 [==============================] - 0s 7ms/step - loss: 4.2511 - accuracy: 0.1140\n",
      "Epoch 17/300\n",
      "47/47 [==============================] - 0s 7ms/step - loss: 4.1702 - accuracy: 0.1058\n",
      "Epoch 18/300\n",
      "47/47 [==============================] - 0s 7ms/step - loss: 4.1020 - accuracy: 0.1418\n",
      "Epoch 19/300\n",
      "47/47 [==============================] - 0s 7ms/step - loss: 4.0354 - accuracy: 0.1384\n",
      "Epoch 20/300\n",
      "47/47 [==============================] - 0s 7ms/step - loss: 3.9864 - accuracy: 0.1540\n",
      "Epoch 21/300\n",
      "47/47 [==============================] - 0s 7ms/step - loss: 3.8536 - accuracy: 0.1669\n",
      "Epoch 22/300\n",
      "47/47 [==============================] - 0s 7ms/step - loss: 3.7671 - accuracy: 0.1771\n",
      "Epoch 23/300\n",
      "47/47 [==============================] - 0s 7ms/step - loss: 3.7074 - accuracy: 0.1839\n",
      "Epoch 24/300\n",
      "47/47 [==============================] - 0s 7ms/step - loss: 3.6355 - accuracy: 0.1988\n",
      "Epoch 25/300\n",
      "47/47 [==============================] - 0s 7ms/step - loss: 3.5904 - accuracy: 0.2042\n",
      "Epoch 26/300\n",
      "47/47 [==============================] - 0s 7ms/step - loss: 3.5009 - accuracy: 0.2157\n",
      "Epoch 27/300\n",
      "47/47 [==============================] - 0s 7ms/step - loss: 3.4173 - accuracy: 0.2307\n",
      "Epoch 28/300\n",
      "47/47 [==============================] - 0s 7ms/step - loss: 3.3409 - accuracy: 0.2483\n",
      "Epoch 29/300\n",
      "47/47 [==============================] - 0s 7ms/step - loss: 3.3067 - accuracy: 0.2497\n",
      "Epoch 30/300\n",
      "47/47 [==============================] - 0s 7ms/step - loss: 3.2607 - accuracy: 0.2693\n",
      "Epoch 31/300\n",
      "47/47 [==============================] - 0s 7ms/step - loss: 3.3069 - accuracy: 0.2490\n",
      "Epoch 32/300\n",
      "47/47 [==============================] - 0s 7ms/step - loss: 3.2107 - accuracy: 0.2727\n",
      "Epoch 33/300\n",
      "47/47 [==============================] - 0s 7ms/step - loss: 3.1831 - accuracy: 0.2863\n",
      "Epoch 34/300\n",
      "47/47 [==============================] - 0s 7ms/step - loss: 3.1258 - accuracy: 0.2849\n",
      "Epoch 35/300\n",
      "47/47 [==============================] - 0s 7ms/step - loss: 2.9836 - accuracy: 0.3243\n",
      "Epoch 36/300\n",
      "47/47 [==============================] - 0s 7ms/step - loss: 2.9070 - accuracy: 0.3358\n",
      "Epoch 37/300\n",
      "47/47 [==============================] - 0s 7ms/step - loss: 2.8580 - accuracy: 0.3562\n",
      "Epoch 38/300\n",
      "47/47 [==============================] - 0s 7ms/step - loss: 2.7721 - accuracy: 0.3752\n",
      "Epoch 39/300\n",
      "47/47 [==============================] - 0s 7ms/step - loss: 2.7273 - accuracy: 0.3908\n",
      "Epoch 40/300\n",
      "47/47 [==============================] - 0s 9ms/step - loss: 2.6819 - accuracy: 0.3996\n",
      "Epoch 41/300\n",
      "47/47 [==============================] - 0s 10ms/step - loss: 2.6040 - accuracy: 0.4281\n",
      "Epoch 42/300\n",
      "47/47 [==============================] - 0s 7ms/step - loss: 2.5559 - accuracy: 0.4322\n",
      "Epoch 43/300\n",
      "47/47 [==============================] - 0s 7ms/step - loss: 2.4919 - accuracy: 0.4545\n",
      "Epoch 44/300\n",
      "47/47 [==============================] - 0s 7ms/step - loss: 2.4724 - accuracy: 0.4695\n",
      "Epoch 45/300\n",
      "47/47 [==============================] - 0s 7ms/step - loss: 2.4173 - accuracy: 0.4939\n",
      "Epoch 46/300\n",
      "47/47 [==============================] - 0s 8ms/step - loss: 2.3432 - accuracy: 0.5000\n",
      "Epoch 47/300\n",
      "47/47 [==============================] - 0s 7ms/step - loss: 2.2654 - accuracy: 0.5068\n",
      "Epoch 48/300\n",
      "47/47 [==============================] - 0s 7ms/step - loss: 2.1699 - accuracy: 0.5739\n",
      "Epoch 49/300\n",
      "47/47 [==============================] - 0s 7ms/step - loss: 2.1292 - accuracy: 0.5611\n",
      "Epoch 50/300\n",
      "47/47 [==============================] - 0s 7ms/step - loss: 2.0572 - accuracy: 0.5834\n",
      "Epoch 51/300\n",
      "47/47 [==============================] - 0s 7ms/step - loss: 2.1028 - accuracy: 0.5617\n",
      "Epoch 52/300\n",
      "47/47 [==============================] - 0s 7ms/step - loss: 2.0398 - accuracy: 0.5991\n",
      "Epoch 53/300\n",
      "47/47 [==============================] - 0s 7ms/step - loss: 1.9515 - accuracy: 0.6235\n",
      "Epoch 54/300\n",
      "47/47 [==============================] - 0s 7ms/step - loss: 1.9157 - accuracy: 0.6309\n",
      "Epoch 55/300\n",
      "47/47 [==============================] - 0s 7ms/step - loss: 1.8324 - accuracy: 0.6703\n",
      "Epoch 56/300\n",
      "47/47 [==============================] - 0s 7ms/step - loss: 1.7933 - accuracy: 0.6716\n",
      "Epoch 57/300\n",
      "47/47 [==============================] - 0s 7ms/step - loss: 1.7657 - accuracy: 0.6811\n",
      "Epoch 58/300\n",
      "47/47 [==============================] - 0s 7ms/step - loss: 1.7067 - accuracy: 0.7022\n",
      "Epoch 59/300\n",
      "47/47 [==============================] - 0s 7ms/step - loss: 1.7284 - accuracy: 0.6927\n",
      "Epoch 60/300\n",
      "47/47 [==============================] - 0s 7ms/step - loss: 1.6105 - accuracy: 0.7368\n",
      "Epoch 61/300\n",
      "47/47 [==============================] - 0s 7ms/step - loss: 1.5190 - accuracy: 0.7653\n",
      "Epoch 62/300\n",
      "47/47 [==============================] - 0s 7ms/step - loss: 1.4684 - accuracy: 0.7836\n",
      "Epoch 63/300\n",
      "47/47 [==============================] - 0s 7ms/step - loss: 1.4251 - accuracy: 0.7924\n",
      "Epoch 64/300\n",
      "47/47 [==============================] - 0s 7ms/step - loss: 1.3994 - accuracy: 0.7992\n",
      "Epoch 65/300\n",
      "47/47 [==============================] - 0s 7ms/step - loss: 1.3926 - accuracy: 0.8033\n",
      "Epoch 66/300\n",
      "47/47 [==============================] - 0s 7ms/step - loss: 1.3851 - accuracy: 0.8012\n",
      "Epoch 67/300\n",
      "47/47 [==============================] - 0s 7ms/step - loss: 1.3697 - accuracy: 0.8019\n",
      "Epoch 68/300\n",
      "47/47 [==============================] - 0s 7ms/step - loss: 1.2891 - accuracy: 0.8290\n",
      "Epoch 69/300\n",
      "47/47 [==============================] - 0s 7ms/step - loss: 1.2299 - accuracy: 0.8426\n",
      "Epoch 70/300\n",
      "47/47 [==============================] - 0s 8ms/step - loss: 1.1901 - accuracy: 0.8596\n",
      "Epoch 71/300\n",
      "47/47 [==============================] - 0s 7ms/step - loss: 1.1791 - accuracy: 0.8596\n",
      "Epoch 72/300\n",
      "47/47 [==============================] - 1s 11ms/step - loss: 1.1355 - accuracy: 0.8677\n",
      "Epoch 73/300\n",
      "47/47 [==============================] - 0s 9ms/step - loss: 1.1058 - accuracy: 0.8684\n",
      "Epoch 74/300\n",
      "47/47 [==============================] - 0s 8ms/step - loss: 1.0735 - accuracy: 0.8799\n",
      "Epoch 75/300\n",
      "47/47 [==============================] - 0s 7ms/step - loss: 1.0384 - accuracy: 0.8942\n",
      "Epoch 76/300\n",
      "47/47 [==============================] - 0s 7ms/step - loss: 1.0502 - accuracy: 0.8867\n",
      "Epoch 77/300\n",
      "47/47 [==============================] - 0s 7ms/step - loss: 1.0067 - accuracy: 0.8928\n",
      "Epoch 78/300\n",
      "47/47 [==============================] - 0s 7ms/step - loss: 0.9941 - accuracy: 0.8962\n",
      "Epoch 79/300\n",
      "47/47 [==============================] - 0s 7ms/step - loss: 1.0261 - accuracy: 0.8860\n",
      "Epoch 80/300\n",
      "47/47 [==============================] - 0s 7ms/step - loss: 1.0315 - accuracy: 0.8840\n",
      "Epoch 81/300\n",
      "47/47 [==============================] - 0s 7ms/step - loss: 0.9667 - accuracy: 0.8948\n",
      "Epoch 82/300\n",
      "47/47 [==============================] - 0s 7ms/step - loss: 0.9299 - accuracy: 0.9064\n",
      "Epoch 83/300\n",
      "47/47 [==============================] - 0s 7ms/step - loss: 0.8887 - accuracy: 0.9084\n",
      "Epoch 84/300\n",
      "47/47 [==============================] - 0s 7ms/step - loss: 0.8578 - accuracy: 0.9186\n",
      "Epoch 85/300\n",
      "47/47 [==============================] - 0s 7ms/step - loss: 0.8326 - accuracy: 0.9247\n",
      "Epoch 86/300\n",
      "47/47 [==============================] - 0s 7ms/step - loss: 0.8156 - accuracy: 0.9328\n",
      "\n",
      "Reached 93% accuracy so cancelling training!\n"
     ]
    }
   ],
   "source": [
    "class myCallback(tf.keras.callbacks.Callback):\n",
    "    def on_epoch_end(self, epoch, logs={}):\n",
    "        if(logs.get('accuracy')>0.93):\n",
    "            print(\"\\nReached 93% accuracy so cancelling training!\")\n",
    "            self.model.stop_training = True\n",
    "\n",
    "callbacks = myCallback()\n",
    "\n",
    "history = model.fit(predictors, label, epochs=300, verbose=1, callbacks=[callbacks])"
   ]
  },
  {
   "cell_type": "code",
   "execution_count": 9,
   "id": "85d496b0",
   "metadata": {
    "execution": {
     "iopub.execute_input": "2022-07-10T16:34:05.865191Z",
     "iopub.status.busy": "2022-07-10T16:34:05.864502Z",
     "iopub.status.idle": "2022-07-10T16:34:06.192636Z",
     "shell.execute_reply": "2022-07-10T16:34:06.191653Z"
    },
    "papermill": {
     "duration": 0.375188,
     "end_time": "2022-07-10T16:34:06.195170",
     "exception": false,
     "start_time": "2022-07-10T16:34:05.819982",
     "status": "completed"
    },
    "tags": []
   },
   "outputs": [
    {
     "data": {
      "image/png": "[encoded data removed]",
      "text/plain": [
       "<Figure size 1120x560 with 2 Axes>"
      ]
     },
     "metadata": {
      "needs_background": "light"
     },
     "output_type": "display_data"
    }
   ],
   "source": [
    "import matplotlib.pyplot as plt\n",
    "from matplotlib.pyplot import figure\n",
    "\n",
    "acc = history.history['accuracy']\n",
    "loss = history.history['loss']\n",
    "\n",
    "epochs = range(len(acc))\n",
    "\n",
    "figure(figsize=(14, 7), dpi=80)\n",
    "\n",
    "plt.subplot(1,2,1)\n",
    "plt.plot(epochs, acc, 'b', label='Training accuracy')\n",
    "plt.title('Training accuracy')\n",
    "plt.legend()\n",
    "\n",
    "plt.subplot(1,2,2)\n",
    "plt.plot(epochs, loss, 'b', label='Training Loss')\n",
    "plt.title('Training loss')\n",
    "plt.legend()\n",
    "\n",
    "plt.show()"
   ]
  }
 ],
 "metadata": {
  "kernelspec": {
   "display_name": "Python 3",
   "language": "python",
   "name": "python3"
  },
  "language_info": {
   "codemirror_mode": {
    "name": "ipython",
    "version": 3
   },
   "file_extension": ".py",
   "mimetype": "text/x-python",
   "name": "python",
   "nbconvert_exporter": "python",
   "pygments_lexer": "ipython3",
   "version": "3.7.12"
  },
  "papermill": {
   "default_parameters": {},
   "duration": 95.292287,
   "end_time": "2022-07-10T16:34:08.994540",
   "environment_variables": {},
   "exception": null,
   "input_path": "__notebook__.ipynb",
   "output_path": "__notebook__.ipynb",
   "parameters": {},
   "start_time": "2022-07-10T16:32:33.702253",
   "version": "2.3.4"
  }
 },
 "nbformat": 4,
 "nbformat_minor": 5
}
