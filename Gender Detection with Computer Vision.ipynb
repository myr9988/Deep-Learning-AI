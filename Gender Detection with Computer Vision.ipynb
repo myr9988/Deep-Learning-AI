{
 "cells": [
  {
   "cell_type": "markdown",
   "id": "55f5c2c5",
   "metadata": {},
   "source": [
    "Gender Detection is based on the applications of computer vision. There are so many computer vision libraries in Python that we can use for the task of recognizing the gender of a human being. In this project, I will take you through how we can use OpenCV and cvlib libraries for the task of Gender Detection with machine learning using Python."
   ]
  },
  {
   "cell_type": "markdown",
   "id": "3599f76b",
   "metadata": {},
   "source": [
    "## Gender Detection with Machine Learning"
   ]
  },
  {
   "cell_type": "markdown",
   "id": "d8009c66",
   "metadata": {},
   "source": [
    "We can use machine learning to detect the gender of a human using the facial appearance samples of men and women. Facial appearance is one of the common ways that we humans use to recognize the gender of another person. We can also use a person’s voice, but the best approach is to train a model with high-level characteristics of human beings such as:\n",
    "\n",
    "- distance between eyes, nose and mouth\n",
    "- measurements of different parts of the faces of both genders.\n",
    "\n",
    "Since Python provides libraries for almost every possible task today, we can also use the OpenCV and cvlib libraries in Python to detect a person’s gender."
   ]
  },
  {
   "cell_type": "markdown",
   "id": "d839ee70",
   "metadata": {},
   "source": [
    "Lets start this task by importing the necessary Python libraries and reading the image that I will use for this task:"
   ]
  },
  {
   "cell_type": "code",
   "execution_count": 2,
   "id": "b8702679",
   "metadata": {},
   "outputs": [],
   "source": [
    "import cv2\n",
    "import cvlib as cv\n",
    "import sys\n",
    "import numpy as np\n",
    "from numpy.lib.type_check import imag\n",
    "image = cv2.imread(r\"C:\\Users\\SHREE\\Downloads\\Python CODES\\Gender Detection with Computer Vision\\Man.png\")"
   ]
  },
  {
   "cell_type": "markdown",
   "id": "5b573f7f",
   "metadata": {},
   "source": [
    "Now below is how we can use the OpenCV and cvlib libraries in Python for the task of Gender Detection:"
   ]
  },
  {
   "cell_type": "code",
   "execution_count": 3,
   "id": "601646b9",
   "metadata": {},
   "outputs": [
    {
     "name": "stdout",
     "output_type": "stream",
     "text": [
      "[INFO] Initializing gender detection model ..\n"
     ]
    }
   ],
   "source": [
    "face, confidence = cv.detect_face(image)\n",
    "padding = 20\n",
    "\n",
    "for i in face:\n",
    "    (x, y) = max(0, i[0]-padding), max(0, i[1]-padding)\n",
    "    (x2, y2) = min(image.shape[1]-1, i[2]+padding), min(image.shape[0]-1,i[3]+padding)\n",
    "    cv2.rectangle(image, (x, y), (x2, y2), (0, 255, 0), 2)\n",
    "    crop = np.copy(image[y:y2, x:x2])\n",
    "    (label, confidence) = cv.detect_gender(crop)\n",
    "    idx = np.argmax(confidence)\n",
    "    label = label[idx]\n",
    "    label = \"{}: {:.2f}%\".format(label, confidence[idx] * 100)\n",
    "    Y = y - 10 if y -10 > 10 else y + 10\n",
    "    cv2.putText(image, label, (y, Y), cv2.FONT_HERSHEY_SIMPLEX, 0.7, (0, 255, 0), 2)\n",
    "\n",
    "cv2.imshow(\"Gender Detection\", image)\n",
    "cv2.waitKey()\n",
    "cv2.destroyAllWindows()"
   ]
  },
  {
   "cell_type": "markdown",
   "id": "d65045fc",
   "metadata": {},
   "source": [
    "## Summary"
   ]
  },
  {
   "cell_type": "markdown",
   "id": "c58c10b2",
   "metadata": {},
   "source": [
    "So this is how we can easily detect the gender of a human being by using an input image or using a webcam in real-time. "
   ]
  }
 ],
 "metadata": {
  "kernelspec": {
   "display_name": "Python 3 (ipykernel)",
   "language": "python",
   "name": "python3"
  },
  "language_info": {
   "codemirror_mode": {
    "name": "ipython",
    "version": 3
   },
   "file_extension": ".py",
   "mimetype": "text/x-python",
   "name": "python",
   "nbconvert_exporter": "python",
   "pygments_lexer": "ipython3",
   "version": "3.8.8"
  }
 },
 "nbformat": 4,
 "nbformat_minor": 5
}
